{
 "cells": [
  {
   "cell_type": "markdown",
   "metadata": {},
   "source": [
    "# импортируем библиотеки"
   ]
  },
  {
   "cell_type": "code",
   "execution_count": 1,
   "metadata": {
    "_cell_guid": "b1076dfc-b9ad-4769-8c92-a6c4dae69d19",
    "_uuid": "8f2839f25d086af736a60e9eeb907d3b93b6e0e5",
    "execution": {
     "iopub.execute_input": "2022-09-13T19:40:59.560687Z",
     "iopub.status.busy": "2022-09-13T19:40:59.559811Z",
     "iopub.status.idle": "2022-09-13T19:40:59.573774Z",
     "shell.execute_reply": "2022-09-13T19:40:59.572029Z",
     "shell.execute_reply.started": "2022-09-13T19:40:59.560639Z"
    }
   },
   "outputs": [],
   "source": [
    "# This Python 3 environment comes with many helpful analytics libraries installed\n",
    "# It is defined by the kaggle/python Docker image: https://github.com/kaggle/docker-python\n",
    "# For example, here's several helpful packages to load\n",
    "\n",
    "import numpy as np # linear algebra\n",
    "import pandas as pd # data processing, CSV file I/O (e.g. pd.read_csv)\n",
    "from sklearn import metrics\n",
    "import matplotlib.pyplot as plt\n",
    "import statistics\n",
    "import seaborn as sns\n",
    "# Input data files are available in the read-only \"../input/\" directory\n",
    "# For example, running this (by clicking run or pressing Shift+Enter) will list all files under the input directory\n",
    "\n",
    "import os\n",
    "for dirname, _, filenames in os.walk('/kaggle/input'):\n",
    "    for filename in filenames:\n",
    "        print(os.path.join(dirname, filename))\n",
    "\n",
    "# You can write up to 20GB to the current directory (/kaggle/working/) that gets preserved as output when you create a version using \"Save & Run All\" \n",
    "# You can also write temporary files to /kaggle/temp/, but they won't be saved outside of the current session"
   ]
  },
  {
   "cell_type": "markdown",
   "metadata": {},
   "source": [
    "## Открываем файл"
   ]
  },
  {
   "cell_type": "code",
   "execution_count": 2,
   "metadata": {
    "execution": {
     "iopub.execute_input": "2022-09-13T19:40:59.589854Z",
     "iopub.status.busy": "2022-09-13T19:40:59.588655Z",
     "iopub.status.idle": "2022-09-13T19:40:59.622250Z",
     "shell.execute_reply": "2022-09-13T19:40:59.620993Z",
     "shell.execute_reply.started": "2022-09-13T19:40:59.589813Z"
    }
   },
   "outputs": [
    {
     "data": {
      "text/html": [
       "<div>\n",
       "<style scoped>\n",
       "    .dataframe tbody tr th:only-of-type {\n",
       "        vertical-align: middle;\n",
       "    }\n",
       "\n",
       "    .dataframe tbody tr th {\n",
       "        vertical-align: top;\n",
       "    }\n",
       "\n",
       "    .dataframe thead th {\n",
       "        text-align: right;\n",
       "    }\n",
       "</style>\n",
       "<table border=\"1\" class=\"dataframe\">\n",
       "  <thead>\n",
       "    <tr style=\"text-align: right;\">\n",
       "      <th></th>\n",
       "      <th>credit_card_utilization</th>\n",
       "      <th>age</th>\n",
       "      <th>overdue_30_59_days</th>\n",
       "      <th>debt_to_income</th>\n",
       "      <th>monthly_income</th>\n",
       "      <th>credits_loans</th>\n",
       "      <th>overdue__more_than_90_days</th>\n",
       "      <th>mortgage_loans</th>\n",
       "      <th>overdue_60_89_days</th>\n",
       "      <th>family_members</th>\n",
       "    </tr>\n",
       "  </thead>\n",
       "  <tbody>\n",
       "    <tr>\n",
       "      <th>0</th>\n",
       "      <td>0.000000</td>\n",
       "      <td>56</td>\n",
       "      <td>0</td>\n",
       "      <td>0.504328</td>\n",
       "      <td>6823.894458</td>\n",
       "      <td>9</td>\n",
       "      <td>0</td>\n",
       "      <td>1</td>\n",
       "      <td>0</td>\n",
       "      <td>5.0</td>\n",
       "    </tr>\n",
       "    <tr>\n",
       "      <th>1</th>\n",
       "      <td>0.170659</td>\n",
       "      <td>45</td>\n",
       "      <td>1</td>\n",
       "      <td>2.405860</td>\n",
       "      <td>356.580765</td>\n",
       "      <td>5</td>\n",
       "      <td>0</td>\n",
       "      <td>0</td>\n",
       "      <td>0</td>\n",
       "      <td>0.0</td>\n",
       "    </tr>\n",
       "    <tr>\n",
       "      <th>2</th>\n",
       "      <td>0.342176</td>\n",
       "      <td>75</td>\n",
       "      <td>1</td>\n",
       "      <td>0.445066</td>\n",
       "      <td>20349.895825</td>\n",
       "      <td>9</td>\n",
       "      <td>0</td>\n",
       "      <td>3</td>\n",
       "      <td>0</td>\n",
       "      <td>0.0</td>\n",
       "    </tr>\n",
       "    <tr>\n",
       "      <th>3</th>\n",
       "      <td>0.046219</td>\n",
       "      <td>50</td>\n",
       "      <td>0</td>\n",
       "      <td>0.814508</td>\n",
       "      <td>2894.368968</td>\n",
       "      <td>12</td>\n",
       "      <td>0</td>\n",
       "      <td>1</td>\n",
       "      <td>0</td>\n",
       "      <td>3.0</td>\n",
       "    </tr>\n",
       "    <tr>\n",
       "      <th>4</th>\n",
       "      <td>0.679556</td>\n",
       "      <td>58</td>\n",
       "      <td>0</td>\n",
       "      <td>0.390311</td>\n",
       "      <td>24833.227614</td>\n",
       "      <td>15</td>\n",
       "      <td>0</td>\n",
       "      <td>4</td>\n",
       "      <td>0</td>\n",
       "      <td>2.0</td>\n",
       "    </tr>\n",
       "    <tr>\n",
       "      <th>...</th>\n",
       "      <td>...</td>\n",
       "      <td>...</td>\n",
       "      <td>...</td>\n",
       "      <td>...</td>\n",
       "      <td>...</td>\n",
       "      <td>...</td>\n",
       "      <td>...</td>\n",
       "      <td>...</td>\n",
       "      <td>...</td>\n",
       "      <td>...</td>\n",
       "    </tr>\n",
       "    <tr>\n",
       "      <th>105104</th>\n",
       "      <td>0.017608</td>\n",
       "      <td>62</td>\n",
       "      <td>0</td>\n",
       "      <td>0.184589</td>\n",
       "      <td>9928.125255</td>\n",
       "      <td>6</td>\n",
       "      <td>0</td>\n",
       "      <td>2</td>\n",
       "      <td>0</td>\n",
       "      <td>0.0</td>\n",
       "    </tr>\n",
       "    <tr>\n",
       "      <th>105105</th>\n",
       "      <td>0.980631</td>\n",
       "      <td>25</td>\n",
       "      <td>0</td>\n",
       "      <td>0.158753</td>\n",
       "      <td>2187.355843</td>\n",
       "      <td>3</td>\n",
       "      <td>0</td>\n",
       "      <td>0</td>\n",
       "      <td>0</td>\n",
       "      <td>0.0</td>\n",
       "    </tr>\n",
       "    <tr>\n",
       "      <th>105106</th>\n",
       "      <td>0.050256</td>\n",
       "      <td>73</td>\n",
       "      <td>1</td>\n",
       "      <td>0.849711</td>\n",
       "      <td>3961.841113</td>\n",
       "      <td>12</td>\n",
       "      <td>0</td>\n",
       "      <td>2</td>\n",
       "      <td>0</td>\n",
       "      <td>0.0</td>\n",
       "    </tr>\n",
       "    <tr>\n",
       "      <th>105107</th>\n",
       "      <td>0.447882</td>\n",
       "      <td>43</td>\n",
       "      <td>0</td>\n",
       "      <td>0.068033</td>\n",
       "      <td>3705.546719</td>\n",
       "      <td>4</td>\n",
       "      <td>0</td>\n",
       "      <td>0</td>\n",
       "      <td>1</td>\n",
       "      <td>0.0</td>\n",
       "    </tr>\n",
       "    <tr>\n",
       "      <th>105108</th>\n",
       "      <td>0.563791</td>\n",
       "      <td>50</td>\n",
       "      <td>1</td>\n",
       "      <td>0.285641</td>\n",
       "      <td>6660.238215</td>\n",
       "      <td>13</td>\n",
       "      <td>0</td>\n",
       "      <td>3</td>\n",
       "      <td>0</td>\n",
       "      <td>1.0</td>\n",
       "    </tr>\n",
       "  </tbody>\n",
       "</table>\n",
       "<p>105109 rows × 10 columns</p>\n",
       "</div>"
      ],
      "text/plain": [
       "        credit_card_utilization  age  overdue_30_59_days  debt_to_income  \\\n",
       "0                      0.000000   56                   0        0.504328   \n",
       "1                      0.170659   45                   1        2.405860   \n",
       "2                      0.342176   75                   1        0.445066   \n",
       "3                      0.046219   50                   0        0.814508   \n",
       "4                      0.679556   58                   0        0.390311   \n",
       "...                         ...  ...                 ...             ...   \n",
       "105104                 0.017608   62                   0        0.184589   \n",
       "105105                 0.980631   25                   0        0.158753   \n",
       "105106                 0.050256   73                   1        0.849711   \n",
       "105107                 0.447882   43                   0        0.068033   \n",
       "105108                 0.563791   50                   1        0.285641   \n",
       "\n",
       "        monthly_income  credits_loans  overdue__more_than_90_days  \\\n",
       "0          6823.894458              9                           0   \n",
       "1           356.580765              5                           0   \n",
       "2         20349.895825              9                           0   \n",
       "3          2894.368968             12                           0   \n",
       "4         24833.227614             15                           0   \n",
       "...                ...            ...                         ...   \n",
       "105104     9928.125255              6                           0   \n",
       "105105     2187.355843              3                           0   \n",
       "105106     3961.841113             12                           0   \n",
       "105107     3705.546719              4                           0   \n",
       "105108     6660.238215             13                           0   \n",
       "\n",
       "        mortgage_loans  overdue_60_89_days  family_members  \n",
       "0                    1                   0             5.0  \n",
       "1                    0                   0             0.0  \n",
       "2                    3                   0             0.0  \n",
       "3                    1                   0             3.0  \n",
       "4                    4                   0             2.0  \n",
       "...                ...                 ...             ...  \n",
       "105104               2                   0             0.0  \n",
       "105105               0                   0             0.0  \n",
       "105106               2                   0             0.0  \n",
       "105107               0                   1             0.0  \n",
       "105108               3                   0             1.0  \n",
       "\n",
       "[105109 rows x 10 columns]"
      ]
     },
     "execution_count": 2,
     "metadata": {},
     "output_type": "execute_result"
    }
   ],
   "source": [
    "train = pd.read_csv('/Users/ivanpatrashev/Downloads/cmf-2022-bank-scoring-case (1)/X_train.csv')\n",
    "train"
   ]
  },
  {
   "cell_type": "code",
   "execution_count": 3,
   "metadata": {},
   "outputs": [
    {
     "data": {
      "text/plain": [
       "count    105109.000000\n",
       "mean          0.269967\n",
       "std           4.227366\n",
       "min           0.000000\n",
       "25%           0.000000\n",
       "50%           0.000000\n",
       "75%           0.000000\n",
       "max          98.000000\n",
       "Name: overdue__more_than_90_days, dtype: float64"
      ]
     },
     "execution_count": 3,
     "metadata": {},
     "output_type": "execute_result"
    }
   ],
   "source": [
    "train.overdue__more_than_90_days.describe()"
   ]
  },
  {
   "cell_type": "code",
   "execution_count": 4,
   "metadata": {
    "execution": {
     "iopub.execute_input": "2022-09-13T19:40:59.624463Z",
     "iopub.status.busy": "2022-09-13T19:40:59.624069Z",
     "iopub.status.idle": "2022-09-13T19:40:59.654546Z",
     "shell.execute_reply": "2022-09-13T19:40:59.653413Z",
     "shell.execute_reply.started": "2022-09-13T19:40:59.624428Z"
    },
    "scrolled": true
   },
   "outputs": [
    {
     "data": {
      "text/html": [
       "<div>\n",
       "<style scoped>\n",
       "    .dataframe tbody tr th:only-of-type {\n",
       "        vertical-align: middle;\n",
       "    }\n",
       "\n",
       "    .dataframe tbody tr th {\n",
       "        vertical-align: top;\n",
       "    }\n",
       "\n",
       "    .dataframe thead th {\n",
       "        text-align: right;\n",
       "    }\n",
       "</style>\n",
       "<table border=\"1\" class=\"dataframe\">\n",
       "  <thead>\n",
       "    <tr style=\"text-align: right;\">\n",
       "      <th></th>\n",
       "      <th>index</th>\n",
       "      <th>credit_card_utilization</th>\n",
       "      <th>age</th>\n",
       "      <th>overdue_30_59_days</th>\n",
       "      <th>debt_to_income</th>\n",
       "      <th>monthly_income</th>\n",
       "      <th>credits_loans</th>\n",
       "      <th>overdue__more_than_90_days</th>\n",
       "      <th>mortgage_loans</th>\n",
       "      <th>overdue_60_89_days</th>\n",
       "      <th>family_members</th>\n",
       "    </tr>\n",
       "  </thead>\n",
       "  <tbody>\n",
       "    <tr>\n",
       "      <th>0</th>\n",
       "      <td>143522</td>\n",
       "      <td>0.021069</td>\n",
       "      <td>60</td>\n",
       "      <td>0</td>\n",
       "      <td>0.184907</td>\n",
       "      <td>14403.715440</td>\n",
       "      <td>9</td>\n",
       "      <td>0</td>\n",
       "      <td>1</td>\n",
       "      <td>0</td>\n",
       "      <td>0.0</td>\n",
       "    </tr>\n",
       "    <tr>\n",
       "      <th>1</th>\n",
       "      <td>116747</td>\n",
       "      <td>0.009985</td>\n",
       "      <td>82</td>\n",
       "      <td>0</td>\n",
       "      <td>0.446264</td>\n",
       "      <td>6768.581963</td>\n",
       "      <td>6</td>\n",
       "      <td>0</td>\n",
       "      <td>3</td>\n",
       "      <td>0</td>\n",
       "      <td>0.0</td>\n",
       "    </tr>\n",
       "    <tr>\n",
       "      <th>2</th>\n",
       "      <td>66075</td>\n",
       "      <td>0.535187</td>\n",
       "      <td>43</td>\n",
       "      <td>1</td>\n",
       "      <td>0.406317</td>\n",
       "      <td>4686.080429</td>\n",
       "      <td>14</td>\n",
       "      <td>0</td>\n",
       "      <td>2</td>\n",
       "      <td>0</td>\n",
       "      <td>3.0</td>\n",
       "    </tr>\n",
       "    <tr>\n",
       "      <th>3</th>\n",
       "      <td>133292</td>\n",
       "      <td>0.051264</td>\n",
       "      <td>31</td>\n",
       "      <td>0</td>\n",
       "      <td>0.311893</td>\n",
       "      <td>3867.175176</td>\n",
       "      <td>8</td>\n",
       "      <td>0</td>\n",
       "      <td>0</td>\n",
       "      <td>0</td>\n",
       "      <td>1.0</td>\n",
       "    </tr>\n",
       "    <tr>\n",
       "      <th>4</th>\n",
       "      <td>83134</td>\n",
       "      <td>0.069525</td>\n",
       "      <td>45</td>\n",
       "      <td>0</td>\n",
       "      <td>0.294956</td>\n",
       "      <td>9869.273012</td>\n",
       "      <td>6</td>\n",
       "      <td>0</td>\n",
       "      <td>1</td>\n",
       "      <td>0</td>\n",
       "      <td>2.0</td>\n",
       "    </tr>\n",
       "    <tr>\n",
       "      <th>...</th>\n",
       "      <td>...</td>\n",
       "      <td>...</td>\n",
       "      <td>...</td>\n",
       "      <td>...</td>\n",
       "      <td>...</td>\n",
       "      <td>...</td>\n",
       "      <td>...</td>\n",
       "      <td>...</td>\n",
       "      <td>...</td>\n",
       "      <td>...</td>\n",
       "      <td>...</td>\n",
       "    </tr>\n",
       "    <tr>\n",
       "      <th>38871</th>\n",
       "      <td>44475</td>\n",
       "      <td>0.731740</td>\n",
       "      <td>39</td>\n",
       "      <td>0</td>\n",
       "      <td>0.251005</td>\n",
       "      <td>3474.894386</td>\n",
       "      <td>5</td>\n",
       "      <td>0</td>\n",
       "      <td>0</td>\n",
       "      <td>0</td>\n",
       "      <td>0.0</td>\n",
       "    </tr>\n",
       "    <tr>\n",
       "      <th>38872</th>\n",
       "      <td>103189</td>\n",
       "      <td>0.010959</td>\n",
       "      <td>70</td>\n",
       "      <td>0</td>\n",
       "      <td>0.152539</td>\n",
       "      <td>4170.426464</td>\n",
       "      <td>14</td>\n",
       "      <td>0</td>\n",
       "      <td>1</td>\n",
       "      <td>0</td>\n",
       "      <td>0.0</td>\n",
       "    </tr>\n",
       "    <tr>\n",
       "      <th>38873</th>\n",
       "      <td>48732</td>\n",
       "      <td>0.084612</td>\n",
       "      <td>52</td>\n",
       "      <td>0</td>\n",
       "      <td>5288.053772</td>\n",
       "      <td>NaN</td>\n",
       "      <td>15</td>\n",
       "      <td>0</td>\n",
       "      <td>2</td>\n",
       "      <td>0</td>\n",
       "      <td>0.0</td>\n",
       "    </tr>\n",
       "    <tr>\n",
       "      <th>38874</th>\n",
       "      <td>135410</td>\n",
       "      <td>0.741717</td>\n",
       "      <td>51</td>\n",
       "      <td>0</td>\n",
       "      <td>0.378356</td>\n",
       "      <td>5441.458787</td>\n",
       "      <td>9</td>\n",
       "      <td>0</td>\n",
       "      <td>2</td>\n",
       "      <td>0</td>\n",
       "      <td>0.0</td>\n",
       "    </tr>\n",
       "    <tr>\n",
       "      <th>38875</th>\n",
       "      <td>73457</td>\n",
       "      <td>0.014229</td>\n",
       "      <td>65</td>\n",
       "      <td>0</td>\n",
       "      <td>0.002321</td>\n",
       "      <td>199556.312925</td>\n",
       "      <td>3</td>\n",
       "      <td>0</td>\n",
       "      <td>1</td>\n",
       "      <td>0</td>\n",
       "      <td>0.0</td>\n",
       "    </tr>\n",
       "  </tbody>\n",
       "</table>\n",
       "<p>38876 rows × 11 columns</p>\n",
       "</div>"
      ],
      "text/plain": [
       "        index  credit_card_utilization  age  overdue_30_59_days  \\\n",
       "0      143522                 0.021069   60                   0   \n",
       "1      116747                 0.009985   82                   0   \n",
       "2       66075                 0.535187   43                   1   \n",
       "3      133292                 0.051264   31                   0   \n",
       "4       83134                 0.069525   45                   0   \n",
       "...       ...                      ...  ...                 ...   \n",
       "38871   44475                 0.731740   39                   0   \n",
       "38872  103189                 0.010959   70                   0   \n",
       "38873   48732                 0.084612   52                   0   \n",
       "38874  135410                 0.741717   51                   0   \n",
       "38875   73457                 0.014229   65                   0   \n",
       "\n",
       "       debt_to_income  monthly_income  credits_loans  \\\n",
       "0            0.184907    14403.715440              9   \n",
       "1            0.446264     6768.581963              6   \n",
       "2            0.406317     4686.080429             14   \n",
       "3            0.311893     3867.175176              8   \n",
       "4            0.294956     9869.273012              6   \n",
       "...               ...             ...            ...   \n",
       "38871        0.251005     3474.894386              5   \n",
       "38872        0.152539     4170.426464             14   \n",
       "38873     5288.053772             NaN             15   \n",
       "38874        0.378356     5441.458787              9   \n",
       "38875        0.002321   199556.312925              3   \n",
       "\n",
       "       overdue__more_than_90_days  mortgage_loans  overdue_60_89_days  \\\n",
       "0                               0               1                   0   \n",
       "1                               0               3                   0   \n",
       "2                               0               2                   0   \n",
       "3                               0               0                   0   \n",
       "4                               0               1                   0   \n",
       "...                           ...             ...                 ...   \n",
       "38871                           0               0                   0   \n",
       "38872                           0               1                   0   \n",
       "38873                           0               2                   0   \n",
       "38874                           0               2                   0   \n",
       "38875                           0               1                   0   \n",
       "\n",
       "       family_members  \n",
       "0                 0.0  \n",
       "1                 0.0  \n",
       "2                 3.0  \n",
       "3                 1.0  \n",
       "4                 2.0  \n",
       "...               ...  \n",
       "38871             0.0  \n",
       "38872             0.0  \n",
       "38873             0.0  \n",
       "38874             0.0  \n",
       "38875             0.0  \n",
       "\n",
       "[38876 rows x 11 columns]"
      ]
     },
     "execution_count": 4,
     "metadata": {},
     "output_type": "execute_result"
    }
   ],
   "source": [
    "test = pd.read_csv('/Users/ivanpatrashev/Downloads/cmf-2022-bank-scoring-case (1)/X_test.csv')\n",
    "test"
   ]
  },
  {
   "cell_type": "code",
   "execution_count": 5,
   "metadata": {
    "scrolled": true
   },
   "outputs": [
    {
     "data": {
      "text/plain": [
       "count    38876.000000\n",
       "mean         0.252598\n",
       "std          3.999838\n",
       "min          0.000000\n",
       "25%          0.000000\n",
       "50%          0.000000\n",
       "75%          0.000000\n",
       "max         98.000000\n",
       "Name: overdue__more_than_90_days, dtype: float64"
      ]
     },
     "execution_count": 5,
     "metadata": {},
     "output_type": "execute_result"
    }
   ],
   "source": [
    "test.overdue__more_than_90_days.describe()"
   ]
  },
  {
   "cell_type": "code",
   "execution_count": 6,
   "metadata": {},
   "outputs": [],
   "source": [
    "outcome = pd.read_csv('/Users/ivanpatrashev/Downloads/cmf-2022-bank-scoring-case (1)/y_train.csv', usecols = ['target'])"
   ]
  },
  {
   "cell_type": "code",
   "execution_count": 7,
   "metadata": {},
   "outputs": [
    {
     "data": {
      "text/plain": [
       "<AxesSubplot:>"
      ]
     },
     "execution_count": 7,
     "metadata": {},
     "output_type": "execute_result"
    },
    {
     "data": {
      "image/png": "[encoded data removed]",
      "text/plain": [
       "<Figure size 720x576 with 2 Axes>"
      ]
     },
     "metadata": {
      "needs_background": "light"
     },
     "output_type": "display_data"
    }
   ],
   "source": [
    "train_corr = train.copy()\n",
    "train_corr['target'] = outcome['target']\n",
    "\n",
    "plt.figure(figsize = (10,8))\n",
    "sns.heatmap(train_corr.corr(method = 'spearman'),annot = True)"
   ]
  },
  {
   "cell_type": "markdown",
   "metadata": {},
   "source": [
    "## соединяем train и test чтобы было удобнее обрабатывать данные"
   ]
  },
  {
   "cell_type": "code",
   "execution_count": 8,
   "metadata": {
    "execution": {
     "iopub.execute_input": "2022-09-13T19:40:59.672099Z",
     "iopub.status.busy": "2022-09-13T19:40:59.671610Z",
     "iopub.status.idle": "2022-09-13T19:40:59.702377Z",
     "shell.execute_reply": "2022-09-13T19:40:59.701449Z",
     "shell.execute_reply.started": "2022-09-13T19:40:59.672053Z"
    },
    "scrolled": false
   },
   "outputs": [
    {
     "data": {
      "text/html": [
       "<div>\n",
       "<style scoped>\n",
       "    .dataframe tbody tr th:only-of-type {\n",
       "        vertical-align: middle;\n",
       "    }\n",
       "\n",
       "    .dataframe tbody tr th {\n",
       "        vertical-align: top;\n",
       "    }\n",
       "\n",
       "    .dataframe thead th {\n",
       "        text-align: right;\n",
       "    }\n",
       "</style>\n",
       "<table border=\"1\" class=\"dataframe\">\n",
       "  <thead>\n",
       "    <tr style=\"text-align: right;\">\n",
       "      <th></th>\n",
       "      <th>age</th>\n",
       "      <th>family_members</th>\n",
       "      <th>credits_loans</th>\n",
       "      <th>mortgage_loans</th>\n",
       "      <th>monthly_income</th>\n",
       "      <th>debt_to_income</th>\n",
       "      <th>credit_card_utilization</th>\n",
       "      <th>overdue_30_59_days</th>\n",
       "      <th>overdue_60_89_days</th>\n",
       "      <th>overdue__more_than_90_days</th>\n",
       "      <th>Test</th>\n",
       "      <th>index</th>\n",
       "    </tr>\n",
       "  </thead>\n",
       "  <tbody>\n",
       "    <tr>\n",
       "      <th>0</th>\n",
       "      <td>56</td>\n",
       "      <td>5.0</td>\n",
       "      <td>9</td>\n",
       "      <td>1</td>\n",
       "      <td>6823.894458</td>\n",
       "      <td>0.504328</td>\n",
       "      <td>0.000000</td>\n",
       "      <td>0</td>\n",
       "      <td>0</td>\n",
       "      <td>0</td>\n",
       "      <td>False</td>\n",
       "      <td>NaN</td>\n",
       "    </tr>\n",
       "    <tr>\n",
       "      <th>1</th>\n",
       "      <td>45</td>\n",
       "      <td>0.0</td>\n",
       "      <td>5</td>\n",
       "      <td>0</td>\n",
       "      <td>356.580765</td>\n",
       "      <td>2.405860</td>\n",
       "      <td>0.170659</td>\n",
       "      <td>1</td>\n",
       "      <td>0</td>\n",
       "      <td>0</td>\n",
       "      <td>False</td>\n",
       "      <td>NaN</td>\n",
       "    </tr>\n",
       "    <tr>\n",
       "      <th>2</th>\n",
       "      <td>75</td>\n",
       "      <td>0.0</td>\n",
       "      <td>9</td>\n",
       "      <td>3</td>\n",
       "      <td>20349.895825</td>\n",
       "      <td>0.445066</td>\n",
       "      <td>0.342176</td>\n",
       "      <td>1</td>\n",
       "      <td>0</td>\n",
       "      <td>0</td>\n",
       "      <td>False</td>\n",
       "      <td>NaN</td>\n",
       "    </tr>\n",
       "    <tr>\n",
       "      <th>3</th>\n",
       "      <td>50</td>\n",
       "      <td>3.0</td>\n",
       "      <td>12</td>\n",
       "      <td>1</td>\n",
       "      <td>2894.368968</td>\n",
       "      <td>0.814508</td>\n",
       "      <td>0.046219</td>\n",
       "      <td>0</td>\n",
       "      <td>0</td>\n",
       "      <td>0</td>\n",
       "      <td>False</td>\n",
       "      <td>NaN</td>\n",
       "    </tr>\n",
       "    <tr>\n",
       "      <th>4</th>\n",
       "      <td>58</td>\n",
       "      <td>2.0</td>\n",
       "      <td>15</td>\n",
       "      <td>4</td>\n",
       "      <td>24833.227614</td>\n",
       "      <td>0.390311</td>\n",
       "      <td>0.679556</td>\n",
       "      <td>0</td>\n",
       "      <td>0</td>\n",
       "      <td>0</td>\n",
       "      <td>False</td>\n",
       "      <td>NaN</td>\n",
       "    </tr>\n",
       "    <tr>\n",
       "      <th>...</th>\n",
       "      <td>...</td>\n",
       "      <td>...</td>\n",
       "      <td>...</td>\n",
       "      <td>...</td>\n",
       "      <td>...</td>\n",
       "      <td>...</td>\n",
       "      <td>...</td>\n",
       "      <td>...</td>\n",
       "      <td>...</td>\n",
       "      <td>...</td>\n",
       "      <td>...</td>\n",
       "      <td>...</td>\n",
       "    </tr>\n",
       "    <tr>\n",
       "      <th>143980</th>\n",
       "      <td>39</td>\n",
       "      <td>0.0</td>\n",
       "      <td>5</td>\n",
       "      <td>0</td>\n",
       "      <td>3474.894386</td>\n",
       "      <td>0.251005</td>\n",
       "      <td>0.731740</td>\n",
       "      <td>0</td>\n",
       "      <td>0</td>\n",
       "      <td>0</td>\n",
       "      <td>True</td>\n",
       "      <td>44475.0</td>\n",
       "    </tr>\n",
       "    <tr>\n",
       "      <th>143981</th>\n",
       "      <td>70</td>\n",
       "      <td>0.0</td>\n",
       "      <td>14</td>\n",
       "      <td>1</td>\n",
       "      <td>4170.426464</td>\n",
       "      <td>0.152539</td>\n",
       "      <td>0.010959</td>\n",
       "      <td>0</td>\n",
       "      <td>0</td>\n",
       "      <td>0</td>\n",
       "      <td>True</td>\n",
       "      <td>103189.0</td>\n",
       "    </tr>\n",
       "    <tr>\n",
       "      <th>143982</th>\n",
       "      <td>52</td>\n",
       "      <td>0.0</td>\n",
       "      <td>15</td>\n",
       "      <td>2</td>\n",
       "      <td>NaN</td>\n",
       "      <td>5288.053772</td>\n",
       "      <td>0.084612</td>\n",
       "      <td>0</td>\n",
       "      <td>0</td>\n",
       "      <td>0</td>\n",
       "      <td>True</td>\n",
       "      <td>48732.0</td>\n",
       "    </tr>\n",
       "    <tr>\n",
       "      <th>143983</th>\n",
       "      <td>51</td>\n",
       "      <td>0.0</td>\n",
       "      <td>9</td>\n",
       "      <td>2</td>\n",
       "      <td>5441.458787</td>\n",
       "      <td>0.378356</td>\n",
       "      <td>0.741717</td>\n",
       "      <td>0</td>\n",
       "      <td>0</td>\n",
       "      <td>0</td>\n",
       "      <td>True</td>\n",
       "      <td>135410.0</td>\n",
       "    </tr>\n",
       "    <tr>\n",
       "      <th>143984</th>\n",
       "      <td>65</td>\n",
       "      <td>0.0</td>\n",
       "      <td>3</td>\n",
       "      <td>1</td>\n",
       "      <td>199556.312925</td>\n",
       "      <td>0.002321</td>\n",
       "      <td>0.014229</td>\n",
       "      <td>0</td>\n",
       "      <td>0</td>\n",
       "      <td>0</td>\n",
       "      <td>True</td>\n",
       "      <td>73457.0</td>\n",
       "    </tr>\n",
       "  </tbody>\n",
       "</table>\n",
       "<p>143985 rows × 12 columns</p>\n",
       "</div>"
      ],
      "text/plain": [
       "        age  family_members  credits_loans  mortgage_loans  monthly_income  \\\n",
       "0        56             5.0              9               1     6823.894458   \n",
       "1        45             0.0              5               0      356.580765   \n",
       "2        75             0.0              9               3    20349.895825   \n",
       "3        50             3.0             12               1     2894.368968   \n",
       "4        58             2.0             15               4    24833.227614   \n",
       "...     ...             ...            ...             ...             ...   \n",
       "143980   39             0.0              5               0     3474.894386   \n",
       "143981   70             0.0             14               1     4170.426464   \n",
       "143982   52             0.0             15               2             NaN   \n",
       "143983   51             0.0              9               2     5441.458787   \n",
       "143984   65             0.0              3               1   199556.312925   \n",
       "\n",
       "        debt_to_income  credit_card_utilization  overdue_30_59_days  \\\n",
       "0             0.504328                 0.000000                   0   \n",
       "1             2.405860                 0.170659                   1   \n",
       "2             0.445066                 0.342176                   1   \n",
       "3             0.814508                 0.046219                   0   \n",
       "4             0.390311                 0.679556                   0   \n",
       "...                ...                      ...                 ...   \n",
       "143980        0.251005                 0.731740                   0   \n",
       "143981        0.152539                 0.010959                   0   \n",
       "143982     5288.053772                 0.084612                   0   \n",
       "143983        0.378356                 0.741717                   0   \n",
       "143984        0.002321                 0.014229                   0   \n",
       "\n",
       "        overdue_60_89_days  overdue__more_than_90_days   Test     index  \n",
       "0                        0                           0  False       NaN  \n",
       "1                        0                           0  False       NaN  \n",
       "2                        0                           0  False       NaN  \n",
       "3                        0                           0  False       NaN  \n",
       "4                        0                           0  False       NaN  \n",
       "...                    ...                         ...    ...       ...  \n",
       "143980                   0                           0   True   44475.0  \n",
       "143981                   0                           0   True  103189.0  \n",
       "143982                   0                           0   True   48732.0  \n",
       "143983                   0                           0   True  135410.0  \n",
       "143984                   0                           0   True   73457.0  \n",
       "\n",
       "[143985 rows x 12 columns]"
      ]
     },
     "execution_count": 8,
     "metadata": {},
     "output_type": "execute_result"
    }
   ],
   "source": [
    "train['Test'] = False\n",
    "test['Test'] = True\n",
    "data = pd.concat([train,test], ignore_index = True)\n",
    "data = data[['age', 'family_members','credits_loans','mortgage_loans', 'monthly_income','debt_to_income','credit_card_utilization','overdue_30_59_days', 'overdue_60_89_days','overdue__more_than_90_days','Test','index']]\n",
    "data"
   ]
  },
  {
   "cell_type": "markdown",
   "metadata": {},
   "source": [
    "## Построим распределения чтобы понять, какие есть выбросы, паттерны и т.д."
   ]
  },
  {
   "cell_type": "code",
   "execution_count": 9,
   "metadata": {
    "scrolled": true
   },
   "outputs": [
    {
     "data": {
      "text/plain": [
       "<seaborn.axisgrid.FacetGrid at 0x7ffd7f2f7070>"
      ]
     },
     "execution_count": 9,
     "metadata": {},
     "output_type": "execute_result"
    },
    {
     "data": {
      "image/png": "[encoded data removed]",
      "text/plain": [
       "<Figure size 360x360 with 1 Axes>"
      ]
     },
     "metadata": {
      "needs_background": "light"
     },
     "output_type": "display_data"
    }
   ],
   "source": [
    "sns.displot(data[data['monthly_income']<7000]['monthly_income'],kde = True)\n"
   ]
  },
  {
   "cell_type": "code",
   "execution_count": 10,
   "metadata": {},
   "outputs": [
    {
     "data": {
      "text/plain": [
       "<seaborn.axisgrid.FacetGrid at 0x7ffd7c06b7c0>"
      ]
     },
     "execution_count": 10,
     "metadata": {},
     "output_type": "execute_result"
    },
    {
     "data": {
      "image/png": "[encoded data removed]",
      "text/plain": [
       "<Figure size 360x360 with 1 Axes>"
      ]
     },
     "metadata": {
      "needs_background": "light"
     },
     "output_type": "display_data"
    }
   ],
   "source": [
    "sns.displot(data['family_members'],kde = True)"
   ]
  },
  {
   "cell_type": "code",
   "execution_count": 11,
   "metadata": {},
   "outputs": [
    {
     "data": {
      "text/plain": [
       "<seaborn.axisgrid.FacetGrid at 0x7ffd80494fd0>"
      ]
     },
     "execution_count": 11,
     "metadata": {},
     "output_type": "execute_result"
    },
    {
     "data": {
      "image/png": "[encoded data removed]",
      "text/plain": [
       "<Figure size 360x360 with 1 Axes>"
      ]
     },
     "metadata": {
      "needs_background": "light"
     },
     "output_type": "display_data"
    }
   ],
   "source": [
    "sns.displot(data['age'],kde = True)"
   ]
  },
  {
   "cell_type": "code",
   "execution_count": 12,
   "metadata": {
    "scrolled": true
   },
   "outputs": [
    {
     "data": {
      "text/plain": [
       "<seaborn.axisgrid.FacetGrid at 0x7ffd81d076a0>"
      ]
     },
     "execution_count": 12,
     "metadata": {},
     "output_type": "execute_result"
    },
    {
     "data": {
      "image/png": "[encoded data removed]",
      "text/plain": [
       "<Figure size 360x360 with 1 Axes>"
      ]
     },
     "metadata": {
      "needs_background": "light"
     },
     "output_type": "display_data"
    }
   ],
   "source": [
    "sns.displot(data[data['mortgage_loans']<10]['mortgage_loans'],kde = True)"
   ]
  },
  {
   "cell_type": "code",
   "execution_count": 13,
   "metadata": {},
   "outputs": [
    {
     "data": {
      "text/plain": [
       "(105109, 1)"
      ]
     },
     "execution_count": 13,
     "metadata": {},
     "output_type": "execute_result"
    }
   ],
   "source": [
    "outcome.shape"
   ]
  },
  {
   "cell_type": "code",
   "execution_count": 14,
   "metadata": {},
   "outputs": [
    {
     "data": {
      "text/plain": [
       "(105109, 11)"
      ]
     },
     "execution_count": 14,
     "metadata": {},
     "output_type": "execute_result"
    }
   ],
   "source": [
    "train.shape"
   ]
  },
  {
   "cell_type": "markdown",
   "metadata": {},
   "source": [
    "## Проверим данные на пропуски и заполним их"
   ]
  },
  {
   "cell_type": "code",
   "execution_count": 15,
   "metadata": {},
   "outputs": [
    {
     "data": {
      "text/plain": [
       "age                                0\n",
       "family_members                  3760\n",
       "credits_loans                      0\n",
       "mortgage_loans                     0\n",
       "monthly_income                 28538\n",
       "debt_to_income                     0\n",
       "credit_card_utilization            0\n",
       "overdue_30_59_days                 0\n",
       "overdue_60_89_days                 0\n",
       "overdue__more_than_90_days         0\n",
       "Test                               0\n",
       "index                         105109\n",
       "dtype: int64"
      ]
     },
     "execution_count": 15,
     "metadata": {},
     "output_type": "execute_result"
    }
   ],
   "source": [
    "data.isnull().sum()"
   ]
  },
  {
   "cell_type": "code",
   "execution_count": 16,
   "metadata": {
    "execution": {
     "iopub.execute_input": "2022-09-13T19:40:59.733316Z",
     "iopub.status.busy": "2022-09-13T19:40:59.732681Z",
     "iopub.status.idle": "2022-09-13T19:40:59.754881Z",
     "shell.execute_reply": "2022-09-13T19:40:59.754030Z",
     "shell.execute_reply.started": "2022-09-13T19:40:59.733283Z"
    }
   },
   "outputs": [],
   "source": [
    "data.monthly_income= data.monthly_income.fillna(statistics.median(data.monthly_income))"
   ]
  },
  {
   "cell_type": "code",
   "execution_count": 17,
   "metadata": {
    "scrolled": true
   },
   "outputs": [],
   "source": [
    "data.family_members= data.family_members.fillna(statistics.mode(data.family_members))"
   ]
  },
  {
   "cell_type": "markdown",
   "metadata": {},
   "source": [
    "## Разделим данные  на train и test обратно"
   ]
  },
  {
   "cell_type": "code",
   "execution_count": 18,
   "metadata": {
    "scrolled": true
   },
   "outputs": [
    {
     "data": {
      "text/plain": [
       "0        143522\n",
       "1        116747\n",
       "2         66075\n",
       "3        133292\n",
       "4         83134\n",
       "          ...  \n",
       "38871     44475\n",
       "38872    103189\n",
       "38873     48732\n",
       "38874    135410\n",
       "38875     73457\n",
       "Name: index, Length: 38876, dtype: int64"
      ]
     },
     "execution_count": 18,
     "metadata": {},
     "output_type": "execute_result"
    }
   ],
   "source": [
    "test_index = test['index']\n",
    "test_index"
   ]
  },
  {
   "cell_type": "code",
   "execution_count": 19,
   "metadata": {},
   "outputs": [],
   "source": [
    "data.drop(['index'], axis = 1, inplace = True)"
   ]
  },
  {
   "cell_type": "code",
   "execution_count": 20,
   "metadata": {
    "execution": {
     "iopub.execute_input": "2022-09-13T19:40:59.957994Z",
     "iopub.status.busy": "2022-09-13T19:40:59.957617Z",
     "iopub.status.idle": "2022-09-13T19:40:59.964756Z",
     "shell.execute_reply": "2022-09-13T19:40:59.963357Z",
     "shell.execute_reply.started": "2022-09-13T19:40:59.957962Z"
    }
   },
   "outputs": [],
   "source": [
    "train = data[data.Test == 0].reset_index(drop = True)"
   ]
  },
  {
   "cell_type": "code",
   "execution_count": 21,
   "metadata": {
    "execution": {
     "iopub.execute_input": "2022-09-13T19:40:59.967267Z",
     "iopub.status.busy": "2022-09-13T19:40:59.966257Z",
     "iopub.status.idle": "2022-09-13T19:40:59.978691Z",
     "shell.execute_reply": "2022-09-13T19:40:59.977573Z",
     "shell.execute_reply.started": "2022-09-13T19:40:59.967223Z"
    }
   },
   "outputs": [],
   "source": [
    "test = data[data.Test == 1].reset_index(drop = True)"
   ]
  },
  {
   "cell_type": "markdown",
   "metadata": {},
   "source": [
    "## Посмотрим на распределение классов"
   ]
  },
  {
   "cell_type": "code",
   "execution_count": 22,
   "metadata": {
    "scrolled": true
   },
   "outputs": [
    {
     "data": {
      "text/plain": [
       "Text(0.5, 1.0, 'Target distribution')"
      ]
     },
     "execution_count": 22,
     "metadata": {},
     "output_type": "execute_result"
    },
    {
     "data": {
      "image/png": "[encoded data removed]",
      "text/plain": [
       "<Figure size 432x288 with 1 Axes>"
      ]
     },
     "metadata": {
      "needs_background": "light"
     },
     "output_type": "display_data"
    }
   ],
   "source": [
    "ax = outcome['target'].hist(orientation='horizontal', color='red')\n",
    "ax.set_xlabel(\"number_of_observations\")\n",
    "ax.set_ylabel(\"unique_value\")\n",
    "ax.set_title(\"Target distribution\")"
   ]
  },
  {
   "cell_type": "code",
   "execution_count": 23,
   "metadata": {
    "execution": {
     "iopub.execute_input": "2022-09-13T19:41:00.002677Z",
     "iopub.status.busy": "2022-09-13T19:41:00.002333Z",
     "iopub.status.idle": "2022-09-13T19:41:00.009852Z",
     "shell.execute_reply": "2022-09-13T19:41:00.008530Z",
     "shell.execute_reply.started": "2022-09-13T19:41:00.002649Z"
    }
   },
   "outputs": [],
   "source": [
    "X = train.copy()\n",
    "y = outcome.copy()"
   ]
  },
  {
   "cell_type": "markdown",
   "metadata": {},
   "source": [
    "## Делим выборку на train и test и cкейлим данные"
   ]
  },
  {
   "cell_type": "code",
   "execution_count": 24,
   "metadata": {
    "execution": {
     "iopub.execute_input": "2022-09-13T19:41:00.013918Z",
     "iopub.status.busy": "2022-09-13T19:41:00.012658Z",
     "iopub.status.idle": "2022-09-13T19:41:00.024339Z",
     "shell.execute_reply": "2022-09-13T19:41:00.023327Z",
     "shell.execute_reply.started": "2022-09-13T19:41:00.013735Z"
    }
   },
   "outputs": [
    {
     "data": {
      "text/plain": [
       "(84087, 11)"
      ]
     },
     "execution_count": 24,
     "metadata": {},
     "output_type": "execute_result"
    }
   ],
   "source": [
    "from sklearn.model_selection import train_test_split\n",
    "X_train, X_test , y_train, y_test = train_test_split(X,y, test_size = 0.2)\n",
    "X_train.shape"
   ]
  },
  {
   "cell_type": "code",
   "execution_count": 25,
   "metadata": {
    "execution": {
     "iopub.execute_input": "2022-09-13T19:41:00.097571Z",
     "iopub.status.busy": "2022-09-13T19:41:00.097019Z",
     "iopub.status.idle": "2022-09-13T19:41:00.102427Z",
     "shell.execute_reply": "2022-09-13T19:41:00.101408Z",
     "shell.execute_reply.started": "2022-09-13T19:41:00.097538Z"
    }
   },
   "outputs": [],
   "source": [
    " from sklearn.preprocessing import StandardScaler\n",
    " scaler = StandardScaler()"
   ]
  },
  {
   "cell_type": "code",
   "execution_count": 26,
   "metadata": {
    "execution": {
     "iopub.execute_input": "2022-09-13T19:41:00.104658Z",
     "iopub.status.busy": "2022-09-13T19:41:00.103645Z",
     "iopub.status.idle": "2022-09-13T19:41:00.122836Z",
     "shell.execute_reply": "2022-09-13T19:41:00.121852Z",
     "shell.execute_reply.started": "2022-09-13T19:41:00.104603Z"
    }
   },
   "outputs": [],
   "source": [
    "X_train_s = scaler.fit_transform(X_train)"
   ]
  },
  {
   "cell_type": "code",
   "execution_count": 27,
   "metadata": {
    "execution": {
     "iopub.execute_input": "2022-09-13T19:41:00.124872Z",
     "iopub.status.busy": "2022-09-13T19:41:00.123982Z",
     "iopub.status.idle": "2022-09-13T19:41:00.132503Z",
     "shell.execute_reply": "2022-09-13T19:41:00.131542Z",
     "shell.execute_reply.started": "2022-09-13T19:41:00.124837Z"
    }
   },
   "outputs": [],
   "source": [
    "X_test_s = scaler.transform(X_test)"
   ]
  },
  {
   "cell_type": "markdown",
   "metadata": {},
   "source": [
    "## Логистисческая регрессия"
   ]
  },
  {
   "cell_type": "code",
   "execution_count": 28,
   "metadata": {
    "execution": {
     "iopub.execute_input": "2022-09-13T19:41:00.134319Z",
     "iopub.status.busy": "2022-09-13T19:41:00.133676Z",
     "iopub.status.idle": "2022-09-13T19:41:00.167872Z",
     "shell.execute_reply": "2022-09-13T19:41:00.166458Z",
     "shell.execute_reply.started": "2022-09-13T19:41:00.134285Z"
    }
   },
   "outputs": [],
   "source": [
    "from sklearn.linear_model import LogisticRegression\n",
    "from sklearn.model_selection import GridSearchCV, StratifiedKFold\n",
    "lr = LogisticRegression(random_state=5, class_weight='balanced')"
   ]
  },
  {
   "cell_type": "markdown",
   "metadata": {},
   "source": [
    "## hyperparameter tuning"
   ]
  },
  {
   "cell_type": "code",
   "execution_count": 29,
   "metadata": {},
   "outputs": [],
   "source": [
    "parameters = {'C': (0.0001, 0.001, 0.01, 0.1, 1, 10)}"
   ]
  },
  {
   "cell_type": "code",
   "execution_count": 30,
   "metadata": {},
   "outputs": [],
   "source": [
    "skf = StratifiedKFold(n_splits=5, shuffle=True, random_state=5)"
   ]
  },
  {
   "cell_type": "code",
   "execution_count": 31,
   "metadata": {},
   "outputs": [
    {
     "data": {
      "text/plain": [
       "LogisticRegression(C=1, class_weight='balanced', random_state=5)"
      ]
     },
     "execution_count": 31,
     "metadata": {},
     "output_type": "execute_result"
    }
   ],
   "source": [
    "grid_search = GridSearchCV(lr, parameters, n_jobs=-1, scoring='roc_auc', cv=skf)\n",
    "grid_search = grid_search.fit(X_train, np.ravel(y_train))\n",
    "grid_search.best_estimator_"
   ]
  },
  {
   "cell_type": "code",
   "execution_count": 32,
   "metadata": {},
   "outputs": [
    {
     "data": {
      "text/plain": [
       "0.007730598419063757"
      ]
     },
     "execution_count": 32,
     "metadata": {},
     "output_type": "execute_result"
    }
   ],
   "source": [
    "grid_search.cv_results_['std_test_score'][1]"
   ]
  },
  {
   "cell_type": "code",
   "execution_count": 33,
   "metadata": {
    "scrolled": true
   },
   "outputs": [
    {
     "data": {
      "text/plain": [
       "0.8104724239381316"
      ]
     },
     "execution_count": 33,
     "metadata": {},
     "output_type": "execute_result"
    }
   ],
   "source": [
    "grid_search.best_score_"
   ]
  },
  {
   "cell_type": "code",
   "execution_count": 34,
   "metadata": {},
   "outputs": [],
   "source": [
    "lr = LogisticRegression(C=0.01, class_weight='balanced', random_state=5)"
   ]
  },
  {
   "cell_type": "code",
   "execution_count": 66,
   "metadata": {},
   "outputs": [
    {
     "name": "stderr",
     "output_type": "stream",
     "text": [
      "/Users/ivanpatrashev/opt/anaconda3/lib/python3.8/site-packages/sklearn/linear_model/_logistic.py:762: ConvergenceWarning: lbfgs failed to converge (status=1):\n",
      "STOP: TOTAL NO. of ITERATIONS REACHED LIMIT.\n",
      "\n",
      "Increase the number of iterations (max_iter) or scale the data as shown in:\n",
      "    https://scikit-learn.org/stable/modules/preprocessing.html\n",
      "Please also refer to the documentation for alternative solver options:\n",
      "    https://scikit-learn.org/stable/modules/linear_model.html#logistic-regression\n",
      "  n_iter_i = _check_optimize_result(\n"
     ]
    },
    {
     "data": {
      "text/plain": [
       "LogisticRegression(C=0.01, class_weight='balanced', random_state=5)"
      ]
     },
     "execution_count": 66,
     "metadata": {},
     "output_type": "execute_result"
    }
   ],
   "source": [
    "lr.fit(X_train,np.ravel(y_train))"
   ]
  },
  {
   "cell_type": "code",
   "execution_count": 36,
   "metadata": {
    "scrolled": true
   },
   "outputs": [
    {
     "data": {
      "text/plain": [
       "0.8703263248025878"
      ]
     },
     "execution_count": 36,
     "metadata": {},
     "output_type": "execute_result"
    }
   ],
   "source": [
    "score = lr.score(X_test, y_test)\n",
    "score"
   ]
  },
  {
   "cell_type": "code",
   "execution_count": 37,
   "metadata": {
    "execution": {
     "iopub.execute_input": "2022-09-13T19:41:00.195197Z",
     "iopub.status.busy": "2022-09-13T19:41:00.194554Z",
     "iopub.status.idle": "2022-09-13T19:41:00.211997Z",
     "shell.execute_reply": "2022-09-13T19:41:00.210659Z",
     "shell.execute_reply.started": "2022-09-13T19:41:00.195139Z"
    },
    "scrolled": true
   },
   "outputs": [
    {
     "data": {
      "text/plain": [
       "array([0.35023967, 0.41715572, 0.32411474, ..., 0.41970367, 0.41124215,\n",
       "       0.23865661])"
      ]
     },
     "execution_count": 37,
     "metadata": {},
     "output_type": "execute_result"
    }
   ],
   "source": [
    "y_pred = lr.predict_proba(X_test)[:,1]\n",
    "y_pred"
   ]
  },
  {
   "cell_type": "markdown",
   "metadata": {},
   "source": [
    "## Посмотрим на основные метрики"
   ]
  },
  {
   "cell_type": "code",
   "execution_count": 38,
   "metadata": {
    "scrolled": false
   },
   "outputs": [
    {
     "data": {
      "image/png": "[encoded data removed]",
      "text/plain": [
       "<Figure size 432x288 with 1 Axes>"
      ]
     },
     "metadata": {
      "needs_background": "light"
     },
     "output_type": "display_data"
    }
   ],
   "source": [
    "fpr, tpr, _ = metrics.roc_curve(y_test,  y_pred)\n",
    "auc = metrics.roc_auc_score(y_test, y_pred)\n",
    "plt.plot(fpr,tpr,label=\"AUC=\"+str(auc))\n",
    "plt.ylabel('True Positive Rate')\n",
    "plt.xlabel('False Positive Rate')\n",
    "plt.legend(loc=4)\n",
    "plt.show()"
   ]
  },
  {
   "cell_type": "markdown",
   "metadata": {},
   "source": [
    "получаем уже неплохой скор просто сбалансировав классы посмотрев гиперпараметры"
   ]
  },
  {
   "cell_type": "code",
   "execution_count": 39,
   "metadata": {
    "execution": {
     "iopub.execute_input": "2022-09-13T19:41:00.230852Z",
     "iopub.status.busy": "2022-09-13T19:41:00.229935Z",
     "iopub.status.idle": "2022-09-13T19:41:00.242491Z",
     "shell.execute_reply": "2022-09-13T19:41:00.241119Z",
     "shell.execute_reply.started": "2022-09-13T19:41:00.230794Z"
    }
   },
   "outputs": [],
   "source": [
    "# from sklearn.metrics import precision_score, recall_score, f1_score\n",
    "# scores = y_pred"
   ]
  },
  {
   "cell_type": "code",
   "execution_count": 40,
   "metadata": {
    "execution": {
     "iopub.execute_input": "2022-09-13T19:41:00.245111Z",
     "iopub.status.busy": "2022-09-13T19:41:00.244415Z",
     "iopub.status.idle": "2022-09-13T19:41:00.568442Z",
     "shell.execute_reply": "2022-09-13T19:41:00.567316Z",
     "shell.execute_reply.started": "2022-09-13T19:41:00.245068Z"
    }
   },
   "outputs": [],
   "source": [
    "# p = np.zeros_like(tr)\n",
    "# r = np.zeros_like(tr)\n",
    "# f = np.zeros_like(tr)\n",
    "# for k,x in enumerate(tr):\n",
    "#     y_pred = (scores >=x)*1\n",
    "#     p[k] = precision_score(y_val,y_pred)\n",
    "#     r[k] = recall_score(y_val,y_pred)\n",
    "#     f[k] = f1_score(y_val, y_pred)\n",
    "\n"
   ]
  },
  {
   "cell_type": "code",
   "execution_count": 44,
   "metadata": {},
   "outputs": [
    {
     "data": {
      "text/plain": [
       "array([0.28835369, 0.24588217, 0.60797451, ..., 0.34545659, 0.3538957 ,\n",
       "       0.0150475 ])"
      ]
     },
     "execution_count": 44,
     "metadata": {},
     "output_type": "execute_result"
    }
   ],
   "source": [
    " y_pred = lr.predict_proba(test)[:,1]\n",
    " y_pred"
   ]
  },
  {
   "cell_type": "markdown",
   "metadata": {},
   "source": [
    "## XGboost"
   ]
  },
  {
   "cell_type": "code",
   "execution_count": 45,
   "metadata": {
    "scrolled": true
   },
   "outputs": [],
   "source": [
    "from xgboost import XGBClassifier"
   ]
  },
  {
   "cell_type": "code",
   "execution_count": 46,
   "metadata": {},
   "outputs": [],
   "source": [
    "from sklearn.preprocessing import MinMaxScaler\n",
    "scaler = MinMaxScaler()"
   ]
  },
  {
   "cell_type": "code",
   "execution_count": 47,
   "metadata": {},
   "outputs": [],
   "source": [
    "xgb_model = XGBClassifier(max_depth=4,learning_rate=0.05,n_estimators=200)"
   ]
  },
  {
   "cell_type": "code",
   "execution_count": 48,
   "metadata": {},
   "outputs": [
    {
     "data": {
      "text/plain": [
       "XGBClassifier(base_score=0.5, booster='gbtree', callbacks=None,\n",
       "              colsample_bylevel=1, colsample_bynode=1, colsample_bytree=1,\n",
       "              early_stopping_rounds=None, enable_categorical=False,\n",
       "              eval_metric=None, gamma=0, gpu_id=-1, grow_policy='depthwise',\n",
       "              importance_type=None, interaction_constraints='',\n",
       "              learning_rate=0.05, max_bin=256, max_cat_to_onehot=3,\n",
       "              max_delta_step=0, max_depth=4, max_leaves=0, min_child_weight=1,\n",
       "              missing=nan, monotone_constraints='()', n_estimators=200,\n",
       "              n_jobs=0, num_parallel_tree=1, predictor='auto', random_state=0,\n",
       "              reg_alpha=0, reg_lambda=1, ...)"
      ]
     },
     "execution_count": 48,
     "metadata": {},
     "output_type": "execute_result"
    }
   ],
   "source": [
    "xgb_model.fit(X_train,y_train)"
   ]
  },
  {
   "cell_type": "code",
   "execution_count": 49,
   "metadata": {},
   "outputs": [
    {
     "data": {
      "text/plain": [
       "0.9394793487697266"
      ]
     },
     "execution_count": 49,
     "metadata": {},
     "output_type": "execute_result"
    }
   ],
   "source": [
    "score = xgb_model.score(X_train,y_train)\n",
    "score"
   ]
  },
  {
   "cell_type": "code",
   "execution_count": 50,
   "metadata": {},
   "outputs": [
    {
     "data": {
      "text/plain": [
       "0.9408238987727143"
      ]
     },
     "execution_count": 50,
     "metadata": {},
     "output_type": "execute_result"
    }
   ],
   "source": [
    "xgb_model.score(X_test,y_test)"
   ]
  },
  {
   "cell_type": "code",
   "execution_count": 51,
   "metadata": {
    "scrolled": true
   },
   "outputs": [
    {
     "data": {
      "text/plain": [
       "XGBClassifier(base_score=0.5, booster='gbtree', callbacks=None,\n",
       "              colsample_bylevel=1, colsample_bynode=1, colsample_bytree=1,\n",
       "              early_stopping_rounds=None, enable_categorical=False,\n",
       "              eval_metric=None, gamma=0, gpu_id=-1, grow_policy='depthwise',\n",
       "              importance_type=None, interaction_constraints='',\n",
       "              learning_rate=0.05, max_bin=256, max_cat_to_onehot=3,\n",
       "              max_delta_step=0, max_depth=4, max_leaves=0, min_child_weight=1,\n",
       "              missing=nan, monotone_constraints='()', n_estimators=200,\n",
       "              n_jobs=0, num_parallel_tree=1, predictor='auto', random_state=0,\n",
       "              reg_alpha=0, reg_lambda=1, ...)"
      ]
     },
     "execution_count": 51,
     "metadata": {},
     "output_type": "execute_result"
    }
   ],
   "source": [
    "xgb_model"
   ]
  },
  {
   "cell_type": "markdown",
   "metadata": {},
   "source": [
    "## hyperparameter tuning"
   ]
  },
  {
   "cell_type": "code",
   "execution_count": 53,
   "metadata": {},
   "outputs": [
    {
     "data": {
      "text/plain": [
       "XGBClassifier(base_score=0.5, booster='gbtree', callbacks=None,\n",
       "              colsample_bylevel=1, colsample_bynode=1, colsample_bytree=1,\n",
       "              early_stopping_rounds=None, enable_categorical=False,\n",
       "              eval_metric=None, gamma=0, gpu_id=-1, grow_policy='depthwise',\n",
       "              importance_type=None, interaction_constraints='',\n",
       "              learning_rate=0.05, max_bin=256, max_cat_to_onehot=3,\n",
       "              max_delta_step=0, max_depth=4, max_leaves=0, min_child_weight=1,\n",
       "              missing=nan, monotone_constraints='()', n_estimators=200,\n",
       "              n_jobs=0, num_parallel_tree=1, predictor='auto', random_state=0,\n",
       "              reg_alpha=0, reg_lambda=1, ...)"
      ]
     },
     "execution_count": 53,
     "metadata": {},
     "output_type": "execute_result"
    }
   ],
   "source": [
    "params = {\n",
    "#      'max_depth': [1,3,4],\n",
    "     'learning_rate':[0.01, 0.05, 0.1,0.15],\n",
    "    'n_estimators': [1,10,50,70,150,200],\n",
    "#     'max_leaves':[0,1,2],\n",
    "#     'max_cat_to_onehot':[3,4,5]\n",
    "}\n",
    "grid_search = GridSearchCV(xgb_model, param_grid = params,cv = 3, scoring='roc_auc', n_jobs = -1, verbose = 0)\n",
    "grid_search.fit(X_train,y_train)\n",
    "grid_search.best_estimator_"
   ]
  },
  {
   "cell_type": "code",
   "execution_count": 54,
   "metadata": {},
   "outputs": [
    {
     "data": {
      "text/plain": [
       "0.8748461222544497"
      ]
     },
     "execution_count": 54,
     "metadata": {},
     "output_type": "execute_result"
    }
   ],
   "source": [
    "grid_search.score(X_train,y_train)"
   ]
  },
  {
   "cell_type": "code",
   "execution_count": 55,
   "metadata": {},
   "outputs": [
    {
     "data": {
      "text/plain": [
       "0.8692051722175569"
      ]
     },
     "execution_count": 55,
     "metadata": {},
     "output_type": "execute_result"
    }
   ],
   "source": [
    "grid_search.score(X_test,y_test)"
   ]
  },
  {
   "cell_type": "code",
   "execution_count": 56,
   "metadata": {},
   "outputs": [
    {
     "data": {
      "text/plain": [
       "0.8609387723170885"
      ]
     },
     "execution_count": 56,
     "metadata": {},
     "output_type": "execute_result"
    }
   ],
   "source": [
    "grid_search.best_score_   "
   ]
  },
  {
   "cell_type": "code",
   "execution_count": 57,
   "metadata": {},
   "outputs": [],
   "source": [
    "# xgb_model1 = XGBClassifier(max_depth=3,learning_rate=0.1,n_estimators=150)\n",
    "# xgb_model1.fit(X_train,y_train)"
   ]
  },
  {
   "cell_type": "code",
   "execution_count": 58,
   "metadata": {
    "scrolled": false
   },
   "outputs": [
    {
     "data": {
      "text/plain": [
       "array([0.01095552, 0.10757727, 0.00560266, ..., 0.0421582 , 0.02055134,\n",
       "       0.00476515], dtype=float32)"
      ]
     },
     "execution_count": 58,
     "metadata": {},
     "output_type": "execute_result"
    }
   ],
   "source": [
    "y_pred = xgb_model.predict_proba(X_test)[:,1]\n",
    "y_pred"
   ]
  },
  {
   "cell_type": "markdown",
   "metadata": {},
   "source": [
    "## Посмотрим на основные метрики, заметим сильное улучшение по сравнению с логистической регрессией. Эту модель и выберем в качестве финальной"
   ]
  },
  {
   "cell_type": "code",
   "execution_count": 59,
   "metadata": {},
   "outputs": [
    {
     "data": {
      "image/png": "[encoded data removed]",
      "text/plain": [
       "<Figure size 432x288 with 1 Axes>"
      ]
     },
     "metadata": {
      "needs_background": "light"
     },
     "output_type": "display_data"
    }
   ],
   "source": [
    "fpr, tpr, _ = metrics.roc_curve(y_test,  y_pred)\n",
    "auc = metrics.roc_auc_score(y_test, y_pred)\n",
    "plt.plot(fpr,tpr,label=\"AUC=\"+str(auc))\n",
    "plt.ylabel('True Positive Rate')\n",
    "plt.xlabel('False Positive Rate')\n",
    "plt.legend(loc=4)\n",
    "plt.show()"
   ]
  },
  {
   "cell_type": "code",
   "execution_count": 69,
   "metadata": {},
   "outputs": [],
   "source": [
    "def plot_feature_importance(importance,names,model_type):\n",
    "\n",
    "    #Create arrays from feature importance and feature names\n",
    "    feature_importance = np.array(importance)\n",
    "    feature_names = np.array(names)\n",
    "\n",
    "    #Create a DataFrame using a Dictionary\n",
    "    data={'feature_names':feature_names,'feature_importance':feature_importance}\n",
    "    fi_df = pd.DataFrame(data)\n",
    "\n",
    "    #Sort the DataFrame in order decreasing feature importance\n",
    "    fi_df.sort_values(by=['feature_importance'], ascending=False,inplace=True)\n",
    "\n",
    "    #Define size of bar plot\n",
    "    plt.figure(figsize=(10,8))\n",
    "    #Plot Searborn bar chart\n",
    "    sns.barplot(x=fi_df['feature_importance'], y=fi_df['feature_names'])\n",
    "    #Add chart labels\n",
    "    plt.title(model_type + 'FEATURE IMPORTANCE')\n",
    "    plt.xlabel('FEATURE IMPORTANCE')\n",
    "    plt.ylabel('FEATURE NAMES')"
   ]
  },
  {
   "cell_type": "code",
   "execution_count": 71,
   "metadata": {},
   "outputs": [
    {
     "data": {
      "image/png": "[encoded data removed]",
      "text/plain": [
       "<Figure size 720x576 with 1 Axes>"
      ]
     },
     "metadata": {
      "needs_background": "light"
     },
     "output_type": "display_data"
    }
   ],
   "source": [
    "plot_feature_importance(xgb_model.feature_importances_,X_train.columns,'XG BOOST ')"
   ]
  },
  {
   "cell_type": "code",
   "execution_count": 60,
   "metadata": {},
   "outputs": [],
   "source": [
    "y_pred1 = xgb_model.predict_proba(test)[:,1]"
   ]
  },
  {
   "cell_type": "code",
   "execution_count": 61,
   "metadata": {},
   "outputs": [
    {
     "data": {
      "text/plain": [
       "array([0.00670393, 0.00923387, 0.12611225, ..., 0.01502486, 0.07626578,\n",
       "       0.00447737], dtype=float32)"
      ]
     },
     "execution_count": 61,
     "metadata": {},
     "output_type": "execute_result"
    }
   ],
   "source": [
    "y_pred1"
   ]
  },
  {
   "cell_type": "code",
   "execution_count": 62,
   "metadata": {
    "execution": {
     "iopub.execute_input": "2022-09-13T19:41:00.602798Z",
     "iopub.status.busy": "2022-09-13T19:41:00.602471Z",
     "iopub.status.idle": "2022-09-13T19:41:00.616101Z",
     "shell.execute_reply": "2022-09-13T19:41:00.614843Z",
     "shell.execute_reply.started": "2022-09-13T19:41:00.602769Z"
    }
   },
   "outputs": [
    {
     "name": "stdout",
     "output_type": "stream",
     "text": [
      "Your submission was successfully saved!\n"
     ]
    }
   ],
   "source": [
    "output = pd.DataFrame({'index': test_index, 'target': y_pred1 })\n",
    "output.to_csv('submission.csv', index=False)\n",
    "print(\"Your submission was successfully saved!\")"
   ]
  },
  {
   "cell_type": "code",
   "execution_count": 63,
   "metadata": {},
   "outputs": [
    {
     "data": {
      "text/html": [
       "<div>\n",
       "<style scoped>\n",
       "    .dataframe tbody tr th:only-of-type {\n",
       "        vertical-align: middle;\n",
       "    }\n",
       "\n",
       "    .dataframe tbody tr th {\n",
       "        vertical-align: top;\n",
       "    }\n",
       "\n",
       "    .dataframe thead th {\n",
       "        text-align: right;\n",
       "    }\n",
       "</style>\n",
       "<table border=\"1\" class=\"dataframe\">\n",
       "  <thead>\n",
       "    <tr style=\"text-align: right;\">\n",
       "      <th></th>\n",
       "      <th>target</th>\n",
       "    </tr>\n",
       "  </thead>\n",
       "  <tbody>\n",
       "    <tr>\n",
       "      <th>60524</th>\n",
       "      <td>0</td>\n",
       "    </tr>\n",
       "    <tr>\n",
       "      <th>5353</th>\n",
       "      <td>0</td>\n",
       "    </tr>\n",
       "    <tr>\n",
       "      <th>36482</th>\n",
       "      <td>0</td>\n",
       "    </tr>\n",
       "    <tr>\n",
       "      <th>1245</th>\n",
       "      <td>0</td>\n",
       "    </tr>\n",
       "    <tr>\n",
       "      <th>28439</th>\n",
       "      <td>1</td>\n",
       "    </tr>\n",
       "    <tr>\n",
       "      <th>...</th>\n",
       "      <td>...</td>\n",
       "    </tr>\n",
       "    <tr>\n",
       "      <th>16505</th>\n",
       "      <td>0</td>\n",
       "    </tr>\n",
       "    <tr>\n",
       "      <th>64902</th>\n",
       "      <td>0</td>\n",
       "    </tr>\n",
       "    <tr>\n",
       "      <th>59800</th>\n",
       "      <td>1</td>\n",
       "    </tr>\n",
       "    <tr>\n",
       "      <th>47437</th>\n",
       "      <td>0</td>\n",
       "    </tr>\n",
       "    <tr>\n",
       "      <th>32979</th>\n",
       "      <td>0</td>\n",
       "    </tr>\n",
       "  </tbody>\n",
       "</table>\n",
       "<p>21022 rows × 1 columns</p>\n",
       "</div>"
      ],
      "text/plain": [
       "       target\n",
       "60524       0\n",
       "5353        0\n",
       "36482       0\n",
       "1245        0\n",
       "28439       1\n",
       "...       ...\n",
       "16505       0\n",
       "64902       0\n",
       "59800       1\n",
       "47437       0\n",
       "32979       0\n",
       "\n",
       "[21022 rows x 1 columns]"
      ]
     },
     "execution_count": 63,
     "metadata": {},
     "output_type": "execute_result"
    }
   ],
   "source": [
    "y_test"
   ]
  },
  {
   "cell_type": "code",
   "execution_count": 64,
   "metadata": {
    "scrolled": true
   },
   "outputs": [
    {
     "data": {
      "text/html": [
       "<div>\n",
       "<style scoped>\n",
       "    .dataframe tbody tr th:only-of-type {\n",
       "        vertical-align: middle;\n",
       "    }\n",
       "\n",
       "    .dataframe tbody tr th {\n",
       "        vertical-align: top;\n",
       "    }\n",
       "\n",
       "    .dataframe thead th {\n",
       "        text-align: right;\n",
       "    }\n",
       "</style>\n",
       "<table border=\"1\" class=\"dataframe\">\n",
       "  <thead>\n",
       "    <tr style=\"text-align: right;\">\n",
       "      <th></th>\n",
       "      <th>index</th>\n",
       "      <th>target</th>\n",
       "    </tr>\n",
       "  </thead>\n",
       "  <tbody>\n",
       "    <tr>\n",
       "      <th>0</th>\n",
       "      <td>143522</td>\n",
       "      <td>0.006704</td>\n",
       "    </tr>\n",
       "    <tr>\n",
       "      <th>1</th>\n",
       "      <td>116747</td>\n",
       "      <td>0.009234</td>\n",
       "    </tr>\n",
       "    <tr>\n",
       "      <th>2</th>\n",
       "      <td>66075</td>\n",
       "      <td>0.126112</td>\n",
       "    </tr>\n",
       "    <tr>\n",
       "      <th>3</th>\n",
       "      <td>133292</td>\n",
       "      <td>0.019068</td>\n",
       "    </tr>\n",
       "    <tr>\n",
       "      <th>4</th>\n",
       "      <td>83134</td>\n",
       "      <td>0.011254</td>\n",
       "    </tr>\n",
       "    <tr>\n",
       "      <th>...</th>\n",
       "      <td>...</td>\n",
       "      <td>...</td>\n",
       "    </tr>\n",
       "    <tr>\n",
       "      <th>38871</th>\n",
       "      <td>44475</td>\n",
       "      <td>0.081541</td>\n",
       "    </tr>\n",
       "    <tr>\n",
       "      <th>38872</th>\n",
       "      <td>103189</td>\n",
       "      <td>0.006604</td>\n",
       "    </tr>\n",
       "    <tr>\n",
       "      <th>38873</th>\n",
       "      <td>48732</td>\n",
       "      <td>0.015025</td>\n",
       "    </tr>\n",
       "    <tr>\n",
       "      <th>38874</th>\n",
       "      <td>135410</td>\n",
       "      <td>0.076266</td>\n",
       "    </tr>\n",
       "    <tr>\n",
       "      <th>38875</th>\n",
       "      <td>73457</td>\n",
       "      <td>0.004477</td>\n",
       "    </tr>\n",
       "  </tbody>\n",
       "</table>\n",
       "<p>38876 rows × 2 columns</p>\n",
       "</div>"
      ],
      "text/plain": [
       "        index    target\n",
       "0      143522  0.006704\n",
       "1      116747  0.009234\n",
       "2       66075  0.126112\n",
       "3      133292  0.019068\n",
       "4       83134  0.011254\n",
       "...       ...       ...\n",
       "38871   44475  0.081541\n",
       "38872  103189  0.006604\n",
       "38873   48732  0.015025\n",
       "38874  135410  0.076266\n",
       "38875   73457  0.004477\n",
       "\n",
       "[38876 rows x 2 columns]"
      ]
     },
     "execution_count": 64,
     "metadata": {},
     "output_type": "execute_result"
    }
   ],
   "source": [
    "pd.read_csv('submission.csv')"
   ]
  }
 ],
 "metadata": {
  "kernelspec": {
   "display_name": "Python 3",
   "language": "python",
   "name": "python3"
  },
  "language_info": {
   "codemirror_mode": {
    "name": "ipython",
    "version": 3
   },
   "file_extension": ".py",
   "mimetype": "text/x-python",
   "name": "python",
   "nbconvert_exporter": "python",
   "pygments_lexer": "ipython3",
   "version": "3.8.5"
  }
 },
 "nbformat": 4,
 "nbformat_minor": 4
}
